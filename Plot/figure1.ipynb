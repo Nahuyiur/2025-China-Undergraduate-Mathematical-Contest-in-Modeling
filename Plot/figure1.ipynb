{
 "cells": [
  {
   "cell_type": "code",
   "execution_count": 1,
   "id": "1b2752bb",
   "metadata": {},
   "outputs": [
    {
     "name": "stderr",
     "output_type": "stream",
     "text": [
      "/opt/anaconda3/lib/python3.12/site-packages/IPython/core/pylabtools.py:170: UserWarning: Glyph 22278 (\\N{CJK UNIFIED IDEOGRAPH-5706}) missing from font(s) DejaVu Sans.\n",
      "  fig.canvas.print_figure(bytes_io, **kw)\n",
      "/opt/anaconda3/lib/python3.12/site-packages/IPython/core/pylabtools.py:170: UserWarning: Glyph 26609 (\\N{CJK UNIFIED IDEOGRAPH-67F1}) missing from font(s) DejaVu Sans.\n",
      "  fig.canvas.print_figure(bytes_io, **kw)\n",
      "/opt/anaconda3/lib/python3.12/site-packages/IPython/core/pylabtools.py:170: UserWarning: Glyph 38382 (\\N{CJK UNIFIED IDEOGRAPH-95EE}) missing from font(s) DejaVu Sans.\n",
      "  fig.canvas.print_figure(bytes_io, **kw)\n",
      "/opt/anaconda3/lib/python3.12/site-packages/IPython/core/pylabtools.py:170: UserWarning: Glyph 39064 (\\N{CJK UNIFIED IDEOGRAPH-9898}) missing from font(s) DejaVu Sans.\n",
      "  fig.canvas.print_figure(bytes_io, **kw)\n",
      "/opt/anaconda3/lib/python3.12/site-packages/IPython/core/pylabtools.py:170: UserWarning: Glyph 30340 (\\N{CJK UNIFIED IDEOGRAPH-7684}) missing from font(s) DejaVu Sans.\n",
      "  fig.canvas.print_figure(bytes_io, **kw)\n",
      "/opt/anaconda3/lib/python3.12/site-packages/IPython/core/pylabtools.py:170: UserWarning: Glyph 34917 (\\N{CJK UNIFIED IDEOGRAPH-8865}) missing from font(s) DejaVu Sans.\n",
      "  fig.canvas.print_figure(bytes_io, **kw)\n",
      "/opt/anaconda3/lib/python3.12/site-packages/IPython/core/pylabtools.py:170: UserWarning: Glyph 20805 (\\N{CJK UNIFIED IDEOGRAPH-5145}) missing from font(s) DejaVu Sans.\n",
      "  fig.canvas.print_figure(bytes_io, **kw)\n"
     ]
    },
    {
     "data": {
      "image/png": "[encoded data removed]",
      "text/plain": [
       "<Figure size 640x480 with 1 Axes>"
      ]
     },
     "metadata": {},
     "output_type": "display_data"
    }
   ],
   "source": [
    "import matplotlib.pyplot as plt\n",
    "import numpy as np\n",
    "\n",
    "# 创建绘图\n",
    "fig, ax = plt.subplots()\n",
    "\n",
    "# 设置坐标轴范围\n",
    "ax.set_xlim(-1000, 22000)\n",
    "ax.set_ylim(-500, 350)\n",
    "\n",
    "# 绘制X、Y轴\n",
    "ax.axhline(0, color='black',linewidth=1)\n",
    "ax.axvline(0, color='black',linewidth=1)\n",
    "\n",
    "# 绘制绿色虚线\n",
    "x = np.linspace(0, 17800, 100)\n",
    "y = (200 / 17800) * x  # 方程为y = (200/17800) * x\n",
    "ax.plot(x, y, 'g--')\n",
    "\n",
    "# 绘制蓝色实线\n",
    "ax.plot([17800, 20000], [0, 0], 'b-', lw=2)\n",
    "\n",
    "# 绘制红色箭头\n",
    "ax.annotate('', xy=(17800, 0), xytext=(0, 200),\n",
    "            arrowprops=dict(facecolor='red', edgecolor='red', arrowstyle='->', lw=2))\n",
    "\n",
    "# 绘制圆柱\n",
    "cylinder_radius = 50  # 圆柱半径\n",
    "cylinder_height = 100  # 圆柱高度\n",
    "cylinder_center = (0, 300)\n",
    "\n",
    "# 圆柱近似为一个矩形与两个半圆的组合\n",
    "theta = np.linspace(0, 2*np.pi, 100)\n",
    "x_cylinder_top = cylinder_radius * np.cos(theta) + cylinder_center[0]\n",
    "y_cylinder_top = cylinder_radius * np.sin(theta) + cylinder_center[1] + cylinder_height / 2\n",
    "x_cylinder_bottom = cylinder_radius * np.cos(theta) + cylinder_center[0]\n",
    "y_cylinder_bottom = cylinder_radius * np.sin(theta) + cylinder_center[1] - cylinder_height / 2\n",
    "\n",
    "# 绘制圆柱顶部和底部\n",
    "ax.fill(x_cylinder_top, y_cylinder_top, color='gray', alpha=0.7)\n",
    "ax.fill(x_cylinder_bottom, y_cylinder_bottom, color='gray', alpha=0.7)\n",
    "\n",
    "# 添加文字\n",
    "ax.text(0, 320, '圆柱', fontsize=12, color='black', ha='center')\n",
    "ax.text(17800, -50, '(17800, 0)', fontsize=12, color='red', ha='center')\n",
    "ax.text(20000, -50, '(20000, 0)', fontsize=12, color='blue', ha='center')\n",
    "\n",
    "# 添加标题和标签\n",
    "ax.text(-800, 320, '问题2的补充', fontsize=14, fontweight='bold', color='black')\n",
    "ax.set_xlabel('X (lt)')\n",
    "ax.set_ylabel('Y')\n",
    "\n",
    "# 显示图形\n",
    "plt.grid(True)\n",
    "plt.gca().set_aspect('equal', adjustable='box')\n",
    "plt.show()\n"
   ]
  }
 ],
 "metadata": {
  "kernelspec": {
   "display_name": "base",
   "language": "python",
   "name": "python3"
  },
  "language_info": {
   "codemirror_mode": {
    "name": "ipython",
    "version": 3
   },
   "file_extension": ".py",
   "mimetype": "text/x-python",
   "name": "python",
   "nbconvert_exporter": "python",
   "pygments_lexer": "ipython3",
   "version": "3.12.2"
  }
 },
 "nbformat": 4,
 "nbformat_minor": 5
}
